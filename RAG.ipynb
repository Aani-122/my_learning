{
  "nbformat": 4,
  "nbformat_minor": 0,
  "metadata": {
    "colab": {
      "provenance": [],
      "toc_visible": true
    },
    "kernelspec": {
      "name": "python3",
      "display_name": "Python 3"
    },
    "language_info": {
      "name": "python"
    }
  },
  "cells": [
    {
      "cell_type": "code",
      "execution_count": null,
      "metadata": {
        "id": "0Dv7h0vQAGN6"
      },
      "outputs": [],
      "source": [
        "pip install langchain_community"
      ]
    },
    {
      "cell_type": "markdown",
      "source": [
        "# LLM model\n"
      ],
      "metadata": {
        "id": "QDJcp7GjQR_N"
      }
    },
    {
      "cell_type": "code",
      "source": [
        "from google.colab import userdata\n",
        "GOOGLE_API_KEY=userdata.get('GOOGLE_API_KEY')\n",
        "\n",
        "from langchain_google_genai import ChatGoogleGenerativeAI\n",
        "llm=ChatGoogleGenerativeAI(model=\"gemini-pro\",google_api_key=GOOGLE_API_KEY)"
      ],
      "metadata": {
        "id": "9VZuzpAqw-Vk"
      },
      "execution_count": null,
      "outputs": []
    },
    {
      "cell_type": "code",
      "source": [
        "#use Mistral llm model from hugging face if you want to.\n",
        "\n",
        "'''\n",
        "from google.colab import userdata\n",
        "from langchain_community.llms import HuggingFaceHub\n",
        "HUGGINGFACEHUB_API_TOKEN=userdata.get('HUGGINGFACEHUB_API_TOKEN')\n",
        "llm=HuggingFaceHub(repo_id=\"mistralai/Mistral-7B-Instruct-v0.1\",huggingfacehub_api_token=HUGGINGFACEHUB_API_TOKEN)\n",
        ",,,"
      ],
      "metadata": {
        "id": "CY1chXfaDMoh"
      },
      "execution_count": null,
      "outputs": []
    },
    {
      "cell_type": "markdown",
      "source": [
        "# Embedding model\n"
      ],
      "metadata": {
        "id": "QU9h6UvuQZ32"
      }
    },
    {
      "cell_type": "code",
      "source": [
        "from google.colab import userdata\n",
        "GOOGLE_API_KEY=userdata.get('GOOGLE_API_KEY')"
      ],
      "metadata": {
        "id": "DKyYyN3YEn6u"
      },
      "execution_count": null,
      "outputs": []
    },
    {
      "cell_type": "code",
      "source": [
        "pip install langchain_google_genai"
      ],
      "metadata": {
        "id": "rCrK_X75Q4Cu"
      },
      "execution_count": null,
      "outputs": []
    },
    {
      "cell_type": "code",
      "source": [
        "from langchain_google_genai import GoogleGenerativeAIEmbeddings\n",
        "\n",
        "embeddings = GoogleGenerativeAIEmbeddings(model=\"models/embedding-001\",google_api_key=GOOGLE_API_KEY)\n",
        "vector = embeddings.embed_query(\"hello, world!\")\n"
      ],
      "metadata": {
        "id": "gbZHUkBMPL0p"
      },
      "execution_count": null,
      "outputs": []
    },
    {
      "cell_type": "code",
      "source": [
        "len(vector) #for configurign the pinecone this value is important."
      ],
      "metadata": {
        "colab": {
          "base_uri": "https://localhost:8080/"
        },
        "id": "XM9TC_0fQ0ld",
        "outputId": "fc8e6dfb-fad0-4ef1-e376-da59c587b331"
      },
      "execution_count": null,
      "outputs": [
        {
          "output_type": "execute_result",
          "data": {
            "text/plain": [
              "768"
            ]
          },
          "metadata": {},
          "execution_count": 6
        }
      ]
    },
    {
      "cell_type": "code",
      "source": [
        "pip install langchain_pinecone"
      ],
      "metadata": {
        "id": "3V8uYgJXTVK9"
      },
      "execution_count": null,
      "outputs": []
    },
    {
      "cell_type": "code",
      "source": [
        "pip install langchain_community"
      ],
      "metadata": {
        "id": "qaDshNApTq42"
      },
      "execution_count": null,
      "outputs": []
    },
    {
      "cell_type": "code",
      "source": [
        "pip install langchain_text_splitters"
      ],
      "metadata": {
        "id": "xlOmJPydT3jU"
      },
      "execution_count": null,
      "outputs": []
    },
    {
      "cell_type": "markdown",
      "source": [
        "# Data"
      ],
      "metadata": {
        "id": "9r0mp9LDUW5d"
      }
    },
    {
      "cell_type": "code",
      "source": [
        "import os\n",
        "from langchain_pinecone import PineconeVectorStore\n",
        "from langchain_community.document_loaders import TextLoader\n",
        "from langchain_text_splitters import CharacterTextSplitter"
      ],
      "metadata": {
        "id": "d7rSH5x-TIDD"
      },
      "execution_count": null,
      "outputs": []
    },
    {
      "cell_type": "code",
      "source": [
        "loader = TextLoader(\"/content/state_of_the_union.txt\")\n",
        "documents = loader.load()\n",
        "text_splitter = CharacterTextSplitter(chunk_size=1000, chunk_overlap=100)\n",
        "docs = text_splitter.split_documents(documents)"
      ],
      "metadata": {
        "id": "J6G02QASRK5E"
      },
      "execution_count": null,
      "outputs": []
    },
    {
      "cell_type": "markdown",
      "source": [
        "# Initializing Pinecone"
      ],
      "metadata": {
        "id": "Qd2yA1hZUbn1"
      }
    },
    {
      "cell_type": "code",
      "source": [
        "from google.colab import userdata\n",
        "PINECONE_API_KEY=userdata.get('PINECONE_API_KEY')"
      ],
      "metadata": {
        "id": "aje5aJNmXzWt"
      },
      "execution_count": null,
      "outputs": []
    },
    {
      "cell_type": "code",
      "source": [
        "vectorstore = PineconeVectorStore(index_name=\"ragsystem\", embedding=embeddings,pinecone_api_key=PINECONE_API_KEY)"
      ],
      "metadata": {
        "id": "EozpT8MVTALn"
      },
      "execution_count": null,
      "outputs": []
    },
    {
      "cell_type": "code",
      "source": [
        " vectorstore.add_documents(docs)"
      ],
      "metadata": {
        "colab": {
          "base_uri": "https://localhost:8080/"
        },
        "id": "smztFK46bxIo",
        "outputId": "24d36d8a-b40a-45d1-d667-ac7e2aa5d5e7"
      },
      "execution_count": null,
      "outputs": [
        {
          "output_type": "execute_result",
          "data": {
            "text/plain": [
              "['147d7592-8eec-4f66-8af5-c6b60f42b1d4',\n",
              " 'e5f398f4-d417-4521-b206-c451accdc7e7',\n",
              " '5a501a5d-9a1a-408c-8220-c1296b6abc0b',\n",
              " '5dc5a088-b1c3-446c-a789-b6c2de3b26b3',\n",
              " '135f80c3-34a4-4996-91d4-809f6879eea5',\n",
              " '850f91ec-0592-4b16-aa3e-e3423caf899c',\n",
              " '05587d9c-6f83-4481-a64d-5b2159c2d650',\n",
              " '3b4be748-354e-4a1b-beab-921f429b217a',\n",
              " '124cb4f0-9a7b-4ab5-b3ac-268f7dd900f9',\n",
              " 'f8118317-3518-41d4-9aa7-48253f307e7a',\n",
              " '752fc4e3-743b-417d-ab17-ed8e518de151',\n",
              " '1b8cb5a8-782d-43c6-bc81-551a29e4a657',\n",
              " 'f92548f9-fff0-41d4-82db-0c190e2c40eb',\n",
              " 'd3cdbad2-f864-45dd-9fef-9a2791b2d92b',\n",
              " '243b96ff-6d7c-4dca-8bb6-de3ba351d826',\n",
              " '596f8a93-958d-463d-b3ba-8a0e123bacc3',\n",
              " 'f1767a72-84bc-4750-a946-d18a6596ae65',\n",
              " '9aacfb1a-d2b2-43b8-b814-73c2c49a9dd6',\n",
              " '1ee9bb20-02c1-4d70-a47e-5c98d648a773',\n",
              " 'fe53a2ef-86a5-4bb0-afad-ea9f18a7b7c2',\n",
              " 'd5886b84-759e-4030-ba0e-9f9a820537e5',\n",
              " 'b12ab6c9-1507-4e7a-8cdb-0825c74cf444',\n",
              " 'a878dc4d-3a01-4d9b-b70c-90f91c054ebd',\n",
              " '2b71d117-06a3-42f2-8ded-fc70d89c9606',\n",
              " '1eda97fe-64ae-47a8-9459-7dcac0041d9e',\n",
              " 'ad89e55f-4d76-46e4-96d4-c457255cefa7',\n",
              " 'bb055f51-f625-474d-b4ca-c57023d53d26',\n",
              " 'c379de34-f996-4909-8194-4841c4d06dcf',\n",
              " 'e90c3c9b-ba7d-4d89-a121-f25c4ad405b6',\n",
              " '65b70c66-626e-44f0-982f-7ebe37f128f6',\n",
              " 'cf7eaa24-3d90-49b0-bc54-87ff38d9b550',\n",
              " '2b4709ff-313a-4438-bd8e-d194f80ce99b',\n",
              " '881603b1-dd09-419c-bf44-5ab686a31e3e',\n",
              " 'a63ab69f-481d-4e84-9d57-96694cb40321',\n",
              " 'ba6e3852-b918-42c0-bda0-286e9bfb4d69',\n",
              " 'dc04c385-6551-43db-b5a4-b2246f1383f9',\n",
              " 'd4fd5108-4b2c-4eba-b74d-7442bf9316ce',\n",
              " '08ecada1-ad7f-46c9-a40c-327fcdb4b4cc',\n",
              " '471d11e7-2edc-4506-95c8-cfee6f1d1825',\n",
              " 'fc6468fd-4280-4de5-bf66-37c69918a75d',\n",
              " 'fd7db72e-ad10-4956-af7d-9b6c77dcf423',\n",
              " '78c0506b-cc9f-4d27-b3da-e02d2c2f52d8']"
            ]
          },
          "metadata": {},
          "execution_count": 55
        }
      ]
    },
    {
      "cell_type": "code",
      "source": [
        " query = \"Who is Ketanji Brown Jackson?\"\n",
        "print(vectorstore.similarity_search(query)[0].page_content)"
      ],
      "metadata": {
        "colab": {
          "base_uri": "https://localhost:8080/"
        },
        "id": "4wriKqKZZtmi",
        "outputId": "f7add149-6749-4eec-ea5f-f4bfe32a8946"
      },
      "execution_count": null,
      "outputs": [
        {
          "output_type": "stream",
          "name": "stdout",
          "text": [
            "One of the most serious constitutional responsibilities a President has is nominating someone to serve on the United States Supreme Court. \n",
            "\n",
            "And I did that 4 days ago, when I nominated Circuit Court of Appeals Judge Ketanji Brown Jackson. One of our nation’s top legal minds, who will continue Justice Breyer’s legacy of excellence. \n",
            "\n",
            "A former top litigator in private practice. A former federal public defender. And from a family of public school educators and police officers. A consensus builder. Since she’s been nominated, she’s received a broad range of support—from the Fraternal Order of Police to former judges appointed by Democrats and Republicans. \n",
            "\n",
            "And if we are to advance liberty and justice, we need to secure the Border and fix the immigration system. \n",
            "\n",
            "We can do both. At our border, we’ve installed new technology like cutting-edge scanners to better detect drug smuggling.  \n",
            "\n",
            "We’ve set up joint patrols with Mexico and Guatemala to catch more human traffickers.\n"
          ]
        }
      ]
    },
    {
      "cell_type": "markdown",
      "source": [
        "# RAG chain"
      ],
      "metadata": {
        "id": "7mpNJF1kyMPl"
      }
    },
    {
      "cell_type": "code",
      "source": [
        "pip install langchain"
      ],
      "metadata": {
        "id": "7LeDL1JjmIp7"
      },
      "execution_count": null,
      "outputs": []
    },
    {
      "cell_type": "code",
      "source": [
        "# Requires:\n",
        "# pip install langchain docarray tiktoken\n",
        "\n",
        "from langchain_community.vectorstores import DocArrayInMemorySearch\n",
        "from langchain_core.output_parsers import StrOutputParser\n",
        "from langchain_core.prompts import ChatPromptTemplate\n",
        "from langchain_core.runnables import RunnableParallel, RunnablePassthrough\n",
        "\n",
        "retriever = vectorstore.as_retriever()\n",
        "\n",
        "template = \"\"\"Answer the question based only on the following context\n",
        "and keep your answer consis:\n",
        "{context}\n",
        "\n",
        "Question: {question}\n",
        "\"\"\"\n",
        "prompt = ChatPromptTemplate.from_template(template)\n",
        "output_parser = StrOutputParser()\n",
        "\n",
        "setup_and_retrieval = RunnableParallel(\n",
        "    {\"context\": retriever, \"question\": RunnablePassthrough()}\n",
        ")\n",
        "chain = setup_and_retrieval | prompt | llm | output_parser\n",
        "\n",
        "chain.invoke(\"who is Ketanji Brown Jackson?\")"
      ],
      "metadata": {
        "colab": {
          "base_uri": "https://localhost:8080/",
          "height": 35
        },
        "id": "gtByuHehwCPx",
        "outputId": "c8d58863-9eea-42d6-d920-de5bf2714ebc"
      },
      "execution_count": null,
      "outputs": [
        {
          "output_type": "execute_result",
          "data": {
            "text/plain": [
              "'Ketanji Brown Jackson is a Circuit Court of Appeals Judge who was nominated by President Biden to serve on the United States Supreme Court.'"
            ],
            "application/vnd.google.colaboratory.intrinsic+json": {
              "type": "string"
            }
          },
          "metadata": {},
          "execution_count": 70
        }
      ]
    },
    {
      "cell_type": "code",
      "source": [
        "chain.invoke(\"what is the meaning of life?\")"
      ],
      "metadata": {
        "colab": {
          "base_uri": "https://localhost:8080/",
          "height": 35
        },
        "id": "E8KxFH8nmF-i",
        "outputId": "9a2e5f7c-ed66-4cb5-8e41-477e651adf87"
      },
      "execution_count": null,
      "outputs": [
        {
          "output_type": "execute_result",
          "data": {
            "text/plain": [
              "'The provided context does not contain information about the meaning of life, so I cannot answer this question from the provided context.'"
            ],
            "application/vnd.google.colaboratory.intrinsic+json": {
              "type": "string"
            }
          },
          "metadata": {},
          "execution_count": 71
        }
      ]
    },
    {
      "cell_type": "code",
      "source": [],
      "metadata": {
        "id": "GemNfrc1xyKD"
      },
      "execution_count": null,
      "outputs": []
    }
  ]
}